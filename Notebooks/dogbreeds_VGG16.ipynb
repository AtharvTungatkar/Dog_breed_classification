{
 "cells": [
  {
   "cell_type": "markdown",
   "id": "3b04e381",
   "metadata": {},
   "source": [
    "Transfer Learning Using VGG16"
   ]
  },
  {
   "cell_type": "markdown",
   "id": "c0deeb59",
   "metadata": {},
   "source": [
    "Importing libraries"
   ]
  },
  {
   "cell_type": "code",
   "execution_count": 1,
   "id": "0c014844",
   "metadata": {},
   "outputs": [],
   "source": [
    "import tensorflow as tf"
   ]
  },
  {
   "cell_type": "code",
   "execution_count": 2,
   "id": "8a3786a4",
   "metadata": {},
   "outputs": [],
   "source": [
    "\n",
    "from tensorflow.keras.layers import Input, Lambda, Dense, Flatten\n",
    "from tensorflow.keras.models import Model\n",
    "from tensorflow.keras.applications.vgg16 import VGG16\n",
    "from tensorflow.keras.preprocessing import image\n",
    "from tensorflow.keras.preprocessing.image import ImageDataGenerator,load_img\n",
    "from tensorflow.keras.models import Sequential\n",
    "import numpy as np\n",
    "from glob import glob"
   ]
  },
  {
   "cell_type": "code",
   "execution_count": 3,
   "id": "ec3529bf",
   "metadata": {},
   "outputs": [],
   "source": [
    "ROOT_PATH='E:/Projects/Dog_breed_classification'"
   ]
  },
  {
   "cell_type": "markdown",
   "id": "f49fe100",
   "metadata": {},
   "source": [
    "Change the directory to root path"
   ]
  },
  {
   "cell_type": "code",
   "execution_count": 4,
   "id": "22db2513",
   "metadata": {},
   "outputs": [
    {
     "data": {
      "text/plain": [
       "'E:\\\\Projects\\\\Dog_breed_classification'"
      ]
     },
     "execution_count": 4,
     "metadata": {},
     "output_type": "execute_result"
    }
   ],
   "source": [
    "import os\n",
    "os.chdir(ROOT_PATH)\n",
    "os.getcwd()"
   ]
  },
  {
   "cell_type": "markdown",
   "id": "cfcf81cf",
   "metadata": {},
   "source": [
    "Since the data was downloaded from kaggle the format isnt as expected for the project so we mannually fixed the data and then imported here"
   ]
  },
  {
   "cell_type": "code",
   "execution_count": null,
   "id": "298bdae5",
   "metadata": {},
   "outputs": [],
   "source": []
  }
 ],
 "metadata": {
  "kernelspec": {
   "display_name": "base",
   "language": "python",
   "name": "python3"
  },
  "language_info": {
   "codemirror_mode": {
    "name": "ipython",
    "version": 3
   },
   "file_extension": ".py",
   "mimetype": "text/x-python",
   "name": "python",
   "nbconvert_exporter": "python",
   "pygments_lexer": "ipython3",
   "version": "3.12.3"
  }
 },
 "nbformat": 4,
 "nbformat_minor": 5
}
